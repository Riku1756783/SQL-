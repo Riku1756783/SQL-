{
 "cells": [
  {
   "cell_type": "code",
   "execution_count": 4,
   "id": "78008182",
   "metadata": {},
   "outputs": [],
   "source": [
    "import sqlite3"
   ]
  },
  {
   "cell_type": "code",
   "execution_count": 82,
   "id": "4e4ffac9",
   "metadata": {},
   "outputs": [],
   "source": [
    "# create database"
   ]
  },
  {
   "cell_type": "code",
   "execution_count": 81,
   "id": "4577af88",
   "metadata": {},
   "outputs": [],
   "source": [
    "dbcon=sqlite3.connect('mystudent_database.db')"
   ]
  },
  {
   "cell_type": "code",
   "execution_count": 6,
   "id": "23c040d0",
   "metadata": {},
   "outputs": [],
   "source": [
    "cur=dbcon.cursor()"
   ]
  },
  {
   "cell_type": "code",
   "execution_count": 7,
   "id": "3de74654",
   "metadata": {},
   "outputs": [
    {
     "data": {
      "text/plain": [
       "<sqlite3.Cursor at 0x1c34c833c70>"
      ]
     },
     "execution_count": 7,
     "metadata": {},
     "output_type": "execute_result"
    }
   ],
   "source": [
    "cur.execute(\"create table student(id int primary key , name text , marks int)\")"
   ]
  },
  {
   "cell_type": "code",
   "execution_count": 8,
   "id": "441bab54",
   "metadata": {},
   "outputs": [
    {
     "data": {
      "text/plain": [
       "<sqlite3.Cursor at 0x1c34c833c70>"
      ]
     },
     "execution_count": 8,
     "metadata": {},
     "output_type": "execute_result"
    }
   ],
   "source": [
    "cur.execute(\"insert into student (id,name,marks) values (1,'Riya',90),(2,'Riku',88),(3,'Kity',70),(4,'Jack',65),(5,'John',68),(6,'Koyel',77),(7,'Tomy',75),(8,'Tithi',86)\")"
   ]
  },
  {
   "cell_type": "code",
   "execution_count": 9,
   "id": "35136e51",
   "metadata": {},
   "outputs": [
    {
     "name": "stdout",
     "output_type": "stream",
     "text": [
      "(1, 'Riya', 90)\n",
      "(2, 'Riku', 88)\n",
      "(3, 'Kity', 70)\n",
      "(4, 'Jack', 65)\n",
      "(5, 'John', 68)\n",
      "(6, 'Koyel', 77)\n",
      "(7, 'Tomy', 75)\n",
      "(8, 'Tithi', 86)\n"
     ]
    }
   ],
   "source": [
    "results=cur.execute(\"select * from student\")\n",
    "for i in results:\n",
    "    print(i)"
   ]
  },
  {
   "cell_type": "code",
   "execution_count": 10,
   "id": "17ad4cb5",
   "metadata": {},
   "outputs": [
    {
     "name": "stdout",
     "output_type": "stream",
     "text": [
      "(90,)\n",
      "(88,)\n",
      "(70,)\n",
      "(65,)\n",
      "(68,)\n",
      "(77,)\n",
      "(75,)\n",
      "(86,)\n"
     ]
    }
   ],
   "source": [
    "results=cur.execute(\"SELECT DISTINCT marks from student\")\n",
    "for i in results:\n",
    "    print(i)"
   ]
  },
  {
   "cell_type": "code",
   "execution_count": 11,
   "id": "639e1b89",
   "metadata": {},
   "outputs": [
    {
     "name": "stdout",
     "output_type": "stream",
     "text": [
      "(88,)\n"
     ]
    }
   ],
   "source": [
    "results=cur.execute('select max(marks) from student where marks<(select max(marks) from student)')\n",
    "for i in results:\n",
    "    print(i)"
   ]
  },
  {
   "cell_type": "code",
   "execution_count": 12,
   "id": "b8cfbcfa",
   "metadata": {},
   "outputs": [
    {
     "name": "stdout",
     "output_type": "stream",
     "text": [
      "(2, 'Riku', 88)\n"
     ]
    }
   ],
   "source": [
    "results=cur.execute(\"select * from student where name='Riku'\")\n",
    "for i in results:\n",
    "    print(i)"
   ]
  },
  {
   "cell_type": "code",
   "execution_count": 13,
   "id": "4a7a5082",
   "metadata": {},
   "outputs": [
    {
     "data": {
      "text/plain": [
       "[]"
      ]
     },
     "execution_count": 13,
     "metadata": {},
     "output_type": "execute_result"
    }
   ],
   "source": [
    "results=cur.execute(\"select marks from student where marks is NULL\")\n",
    "results.fetchall()"
   ]
  },
  {
   "cell_type": "code",
   "execution_count": 14,
   "id": "37fee1cc",
   "metadata": {},
   "outputs": [
    {
     "data": {
      "text/plain": [
       "[(90,), (88,), (70,), (65,), (68,), (77,), (75,), (86,)]"
      ]
     },
     "execution_count": 14,
     "metadata": {},
     "output_type": "execute_result"
    }
   ],
   "source": [
    "results=cur.execute(\"SELECT marks from student WHERE marks IS NOT NULL\")\n",
    "results.fetchall()"
   ]
  },
  {
   "cell_type": "code",
   "execution_count": 16,
   "id": "01d668d3",
   "metadata": {},
   "outputs": [
    {
     "data": {
      "text/plain": [
       "[('Jack',),\n",
       " ('John',),\n",
       " ('Kity',),\n",
       " ('Koyel',),\n",
       " ('Riku',),\n",
       " ('Riya',),\n",
       " ('Tithi',),\n",
       " ('Tomy',)]"
      ]
     },
     "execution_count": 16,
     "metadata": {},
     "output_type": "execute_result"
    }
   ],
   "source": [
    "results=cur.execute(\"select name from student order by name asc\")\n",
    "results.fetchall()"
   ]
  },
  {
   "cell_type": "code",
   "execution_count": 17,
   "id": "b79b0326",
   "metadata": {},
   "outputs": [
    {
     "data": {
      "text/plain": [
       "[('Tomy',),\n",
       " ('Tithi',),\n",
       " ('Riya',),\n",
       " ('Riku',),\n",
       " ('Koyel',),\n",
       " ('Kity',),\n",
       " ('John',),\n",
       " ('Jack',)]"
      ]
     },
     "execution_count": 17,
     "metadata": {},
     "output_type": "execute_result"
    }
   ],
   "source": [
    "results=cur.execute(\"select name from student order by name desc\")\n",
    "results.fetchall()"
   ]
  },
  {
   "cell_type": "code",
   "execution_count": 18,
   "id": "443ea83d",
   "metadata": {},
   "outputs": [
    {
     "name": "stdout",
     "output_type": "stream",
     "text": [
      "(1, 'Riya', 90)\n",
      "(2, 'Riku', 88)\n",
      "(3, 'Kity', 70)\n",
      "(4, 'Jack', 65)\n",
      "(5, 'John', 68)\n"
     ]
    }
   ],
   "source": [
    "results=cur.execute(\"select * from student limit 5 \")\n",
    "for i in results:\n",
    "    print(i)"
   ]
  },
  {
   "cell_type": "code",
   "execution_count": 21,
   "id": "ee973673",
   "metadata": {},
   "outputs": [
    {
     "data": {
      "text/plain": [
       "[(1, 'Riya', 90), (2, 'Riku', 88)]"
      ]
     },
     "execution_count": 21,
     "metadata": {},
     "output_type": "execute_result"
    }
   ],
   "source": [
    "results=cur.execute(\"select * from student where id=1 or name ='Riku'\")\n",
    "results.fetchall()"
   ]
  },
  {
   "cell_type": "code",
   "execution_count": 20,
   "id": "97be2826",
   "metadata": {},
   "outputs": [
    {
     "name": "stdout",
     "output_type": "stream",
     "text": [
      "('Riya',)\n",
      "('Riku',)\n",
      "('Kity',)\n"
     ]
    }
   ],
   "source": [
    "results=cur.execute(\"select name from student where id in (1,2,3) \")\n",
    "for i in results:\n",
    "    print(i)"
   ]
  },
  {
   "cell_type": "code",
   "execution_count": 22,
   "id": "926848bb",
   "metadata": {},
   "outputs": [
    {
     "name": "stdout",
     "output_type": "stream",
     "text": [
      "(1, 'Riya', 90)\n"
     ]
    }
   ],
   "source": [
    "results=cur.execute(\"select * from student where id = 1 AND name = 'Riya'\")\n",
    "for i in results:\n",
    "    print(i)"
   ]
  },
  {
   "cell_type": "code",
   "execution_count": null,
   "id": "aa68743b",
   "metadata": {},
   "outputs": [],
   "source": []
  },
  {
   "cell_type": "code",
   "execution_count": 27,
   "id": "c8907faf",
   "metadata": {},
   "outputs": [
    {
     "data": {
      "text/plain": [
       "[]"
      ]
     },
     "execution_count": 27,
     "metadata": {},
     "output_type": "execute_result"
    }
   ],
   "source": [
    "results=cur.execute(\"SELECT * from student WHERE name IS  NULL \")\n",
    "results.fetchall()"
   ]
  },
  {
   "cell_type": "code",
   "execution_count": 23,
   "id": "76d824a7",
   "metadata": {},
   "outputs": [
    {
     "name": "stdout",
     "output_type": "stream",
     "text": [
      "(1, 'Riya', 90)\n",
      "(2, 'Riku', 88)\n",
      "(3, 'Kity', 70)\n",
      "(4, 'Jack', 65)\n",
      "(5, 'John', 68)\n",
      "(6, 'Koyel', 77)\n",
      "(7, 'Tomy', 75)\n",
      "(8, 'Tithi', 86)\n"
     ]
    }
   ],
   "source": [
    "results=cur.execute(\"select * from student where name is not 'null'\")\n",
    "for i in results:\n",
    "    print(i)"
   ]
  },
  {
   "cell_type": "code",
   "execution_count": 28,
   "id": "cbca7d7e",
   "metadata": {},
   "outputs": [
    {
     "data": {
      "text/plain": [
       "[(619,)]"
      ]
     },
     "execution_count": 28,
     "metadata": {},
     "output_type": "execute_result"
    }
   ],
   "source": [
    "results=cur.execute(\"select sum(marks) from student\")\n",
    "results.fetchall()"
   ]
  },
  {
   "cell_type": "code",
   "execution_count": 29,
   "id": "b63a6a47",
   "metadata": {},
   "outputs": [
    {
     "data": {
      "text/plain": [
       "(77.375,)"
      ]
     },
     "execution_count": 29,
     "metadata": {},
     "output_type": "execute_result"
    }
   ],
   "source": [
    "results=cur.execute(\"select avg(marks) from student\")\n",
    "results.fetchone()"
   ]
  },
  {
   "cell_type": "code",
   "execution_count": 30,
   "id": "33000580",
   "metadata": {},
   "outputs": [
    {
     "data": {
      "text/plain": [
       "(8,)"
      ]
     },
     "execution_count": 30,
     "metadata": {},
     "output_type": "execute_result"
    }
   ],
   "source": [
    "results=cur.execute(\"select count(id) from student\")\n",
    "results.fetchone()"
   ]
  },
  {
   "cell_type": "code",
   "execution_count": 31,
   "id": "cf4dc9a6",
   "metadata": {},
   "outputs": [
    {
     "data": {
      "text/plain": [
       "(8,)"
      ]
     },
     "execution_count": 31,
     "metadata": {},
     "output_type": "execute_result"
    }
   ],
   "source": [
    "results=cur.execute(\"select count(marks) from student\")\n",
    "results.fetchone()"
   ]
  },
  {
   "cell_type": "code",
   "execution_count": 32,
   "id": "dc29d8bc",
   "metadata": {},
   "outputs": [
    {
     "data": {
      "text/plain": [
       "(8,)"
      ]
     },
     "execution_count": 32,
     "metadata": {},
     "output_type": "execute_result"
    }
   ],
   "source": [
    "results=cur.execute(\"select count(name) from student\")\n",
    "results.fetchone()"
   ]
  },
  {
   "cell_type": "code",
   "execution_count": 33,
   "id": "99bd1521",
   "metadata": {
    "collapsed": true
   },
   "outputs": [
    {
     "name": "stdout",
     "output_type": "stream",
     "text": [
      "(1, 'Riya', 90)\n",
      "(2, 'Riku', 88)\n",
      "(3, 'Kity', 70)\n",
      "(8, 'Tithi', 86)\n"
     ]
    }
   ],
   "source": [
    "results=cur.execute(\"select * from student where name Like '_i_%' \")\n",
    "for i in results:\n",
    "    print(i)"
   ]
  },
  {
   "cell_type": "code",
   "execution_count": 36,
   "id": "f639400b",
   "metadata": {},
   "outputs": [
    {
     "name": "stdout",
     "output_type": "stream",
     "text": [
      "(1, 'Riya', 90)\n",
      "(2, 'Riku', 88)\n"
     ]
    }
   ],
   "source": [
    "results=cur.execute(\"select * from student where name Like 'Ri__'\")\n",
    "for i in results:\n",
    "    print(i)"
   ]
  },
  {
   "cell_type": "code",
   "execution_count": 37,
   "id": "ed69232c",
   "metadata": {},
   "outputs": [],
   "source": [
    "results=cur.execute(\"select * from student where name Like '%s%' \")\n",
    "for i in results:\n",
    "    print(i)"
   ]
  },
  {
   "cell_type": "code",
   "execution_count": 39,
   "id": "80f9c012",
   "metadata": {},
   "outputs": [
    {
     "name": "stdout",
     "output_type": "stream",
     "text": [
      "(2, 'Riku', 88)\n"
     ]
    }
   ],
   "source": [
    "results=cur.execute(\"select * from student where name Like '__ku%'  \")\n",
    "for i in results:\n",
    "    print(i)"
   ]
  },
  {
   "cell_type": "code",
   "execution_count": 44,
   "id": "ce565f65",
   "metadata": {},
   "outputs": [
    {
     "data": {
      "text/plain": [
       "[('Tithi',)]"
      ]
     },
     "execution_count": 44,
     "metadata": {},
     "output_type": "execute_result"
    }
   ],
   "source": [
    "results=cur.execute(\"select name from student where name Like '___%i' \")\n",
    "results.fetchall()"
   ]
  },
  {
   "cell_type": "code",
   "execution_count": 45,
   "id": "1aa7f7ac",
   "metadata": {},
   "outputs": [
    {
     "data": {
      "text/plain": [
       "[]"
      ]
     },
     "execution_count": 45,
     "metadata": {},
     "output_type": "execute_result"
    }
   ],
   "source": [
    "results=cur.execute('update student set marks=98 where id = 1')\n",
    "results.fetchall()\n",
    "\n",
    "\n"
   ]
  },
  {
   "cell_type": "code",
   "execution_count": 46,
   "id": "8acb9ce6",
   "metadata": {},
   "outputs": [
    {
     "data": {
      "text/plain": [
       "[(1, 'Riya', 98),\n",
       " (2, 'Riku', 88),\n",
       " (3, 'Kity', 70),\n",
       " (4, 'Jack', 65),\n",
       " (5, 'John', 68),\n",
       " (6, 'Koyel', 77),\n",
       " (7, 'Tomy', 75),\n",
       " (8, 'Tithi', 86)]"
      ]
     },
     "execution_count": 46,
     "metadata": {},
     "output_type": "execute_result"
    }
   ],
   "source": [
    "results=cur.execute(\"select * from student\")\n",
    "\n",
    "results.fetchall()\n",
    " \n"
   ]
  },
  {
   "cell_type": "code",
   "execution_count": 47,
   "id": "0c665b9c",
   "metadata": {},
   "outputs": [
    {
     "data": {
      "text/plain": [
       "[('Riku',), ('Tithi',)]"
      ]
     },
     "execution_count": 47,
     "metadata": {},
     "output_type": "execute_result"
    }
   ],
   "source": [
    "results=cur.execute(\"select name from student where marks between 80 and 90\")\n",
    "results.fetchall()"
   ]
  },
  {
   "cell_type": "markdown",
   "id": "0e041ac9",
   "metadata": {},
   "source": [
    "SQL JOIN"
   ]
  },
  {
   "cell_type": "markdown",
   "id": "8d6265a8",
   "metadata": {},
   "source": [
    "Referential Integrity"
   ]
  },
  {
   "cell_type": "code",
   "execution_count": 48,
   "id": "589b97fa",
   "metadata": {},
   "outputs": [],
   "source": [
    "import sqlite3"
   ]
  },
  {
   "cell_type": "code",
   "execution_count": 49,
   "id": "cad17bd1",
   "metadata": {},
   "outputs": [],
   "source": [
    "db=sqlite3.connect(\"student_course.db\")"
   ]
  },
  {
   "cell_type": "code",
   "execution_count": 50,
   "id": "3378658c",
   "metadata": {},
   "outputs": [],
   "source": [
    "cur=db.cursor()"
   ]
  },
  {
   "cell_type": "code",
   "execution_count": 51,
   "id": "9b181251",
   "metadata": {},
   "outputs": [
    {
     "data": {
      "text/plain": [
       "<sqlite3.Cursor at 0x1c34c895ab0>"
      ]
     },
     "execution_count": 51,
     "metadata": {},
     "output_type": "execute_result"
    }
   ],
   "source": [
    "cur.execute(\"create table course (courseid int primary key , coursename text , duration int)\")"
   ]
  },
  {
   "cell_type": "code",
   "execution_count": 55,
   "id": "018a5905",
   "metadata": {},
   "outputs": [
    {
     "data": {
      "text/plain": [
       "<sqlite3.Cursor at 0x1c34c895ab0>"
      ]
     },
     "execution_count": 55,
     "metadata": {},
     "output_type": "execute_result"
    }
   ],
   "source": [
    "cur.execute(\"create table student (rollno int primary key , studentname text , age int , courseid int, foreign key(courseid) references course(courseid))\")"
   ]
  },
  {
   "cell_type": "code",
   "execution_count": 56,
   "id": "0458873e",
   "metadata": {},
   "outputs": [
    {
     "data": {
      "text/plain": [
       "<sqlite3.Cursor at 0x1c34c895ab0>"
      ]
     },
     "execution_count": 56,
     "metadata": {},
     "output_type": "execute_result"
    }
   ],
   "source": [
    "cur.execute(\"insert into course values (78,'data science',45),(56,'python',30),(29,'mysql',20),(22,'r language',15),(27,'machine learning',50)\")"
   ]
  },
  {
   "cell_type": "code",
   "execution_count": 57,
   "id": "11309ae1",
   "metadata": {},
   "outputs": [
    {
     "data": {
      "text/plain": [
       "<sqlite3.Cursor at 0x1c34c895ab0>"
      ]
     },
     "execution_count": 57,
     "metadata": {},
     "output_type": "execute_result"
    }
   ],
   "source": [
    "cur.execute(\"insert into student values(1,'riku',23,78),(2,'riya',26,56),(3,'tithi',24,29),(4,'titu',20,22),(5,'jack',28,27),(6,'john',30,56),(7,'popi',32,78)\")"
   ]
  },
  {
   "cell_type": "markdown",
   "id": "c518a39c",
   "metadata": {},
   "source": [
    "SQL QUERY"
   ]
  },
  {
   "cell_type": "code",
   "execution_count": 65,
   "id": "3d0b71a9",
   "metadata": {},
   "outputs": [
    {
     "data": {
      "text/plain": [
       "[(78, 'data science', 45),\n",
       " (56, 'python', 30),\n",
       " (29, 'mysql', 20),\n",
       " (22, 'r language', 15),\n",
       " (27, 'machine learning', 50)]"
      ]
     },
     "execution_count": 65,
     "metadata": {},
     "output_type": "execute_result"
    }
   ],
   "source": [
    "results=cur.execute(\"select * from course\")\n",
    "results.fetchall()"
   ]
  },
  {
   "cell_type": "code",
   "execution_count": 67,
   "id": "04d64440",
   "metadata": {},
   "outputs": [
    {
     "data": {
      "text/plain": [
       "[(1, 'riku', 23, 78),\n",
       " (2, 'riya', 26, 56),\n",
       " (3, 'tithi', 24, 29),\n",
       " (4, 'titu', 20, 22),\n",
       " (5, 'jack', 28, 27),\n",
       " (6, 'john', 30, 56),\n",
       " (7, 'popi', 32, 78)]"
      ]
     },
     "execution_count": 67,
     "metadata": {},
     "output_type": "execute_result"
    }
   ],
   "source": [
    "results=cur.execute(\"select * from student\")\n",
    "results.fetchall()"
   ]
  },
  {
   "cell_type": "code",
   "execution_count": 68,
   "id": "a142b5a5",
   "metadata": {},
   "outputs": [],
   "source": [
    "# fetch out 2nd highest age "
   ]
  },
  {
   "cell_type": "code",
   "execution_count": 59,
   "id": "4615218d",
   "metadata": {},
   "outputs": [
    {
     "data": {
      "text/plain": [
       "[(30,)]"
      ]
     },
     "execution_count": 59,
     "metadata": {},
     "output_type": "execute_result"
    }
   ],
   "source": [
    "results=cur.execute(\"select max(age) from student where age<(select max(age) from student)\")\n",
    "results.fetchall()"
   ]
  },
  {
   "cell_type": "code",
   "execution_count": 60,
   "id": "37a5aa43",
   "metadata": {},
   "outputs": [],
   "source": [
    "# fetch out max age"
   ]
  },
  {
   "cell_type": "code",
   "execution_count": 61,
   "id": "16f86be5",
   "metadata": {},
   "outputs": [
    {
     "data": {
      "text/plain": [
       "[(32,)]"
      ]
     },
     "execution_count": 61,
     "metadata": {},
     "output_type": "execute_result"
    }
   ],
   "source": [
    "results=cur.execute(\"select max(age) from student\")\n",
    "results.fetchall()"
   ]
  },
  {
   "cell_type": "code",
   "execution_count": 62,
   "id": "b7a9684e",
   "metadata": {},
   "outputs": [
    {
     "data": {
      "text/plain": [
       "[(23,), (26,), (24,), (20,), (28,), (30,), (32,)]"
      ]
     },
     "execution_count": 62,
     "metadata": {},
     "output_type": "execute_result"
    }
   ],
   "source": [
    "results=cur.execute(\"select age from student\")\n",
    "results.fetchall()"
   ]
  },
  {
   "cell_type": "code",
   "execution_count": 63,
   "id": "9ad96748",
   "metadata": {},
   "outputs": [],
   "source": [
    "# fetch out course id where course name is 'data science'"
   ]
  },
  {
   "cell_type": "code",
   "execution_count": 64,
   "id": "a28f80bd",
   "metadata": {},
   "outputs": [
    {
     "data": {
      "text/plain": [
       "[(78,)]"
      ]
     },
     "execution_count": 64,
     "metadata": {},
     "output_type": "execute_result"
    }
   ],
   "source": [
    "results=cur.execute(\"select courseid from course where coursename='data science'\")\n",
    "results.fetchall()"
   ]
  },
  {
   "cell_type": "code",
   "execution_count": 69,
   "id": "97730127",
   "metadata": {},
   "outputs": [],
   "source": [
    "# fetch out all student courseid where coursename is 'data science'"
   ]
  },
  {
   "cell_type": "code",
   "execution_count": 70,
   "id": "22e8caa7",
   "metadata": {},
   "outputs": [
    {
     "data": {
      "text/plain": [
       "[(1, 'riku', 23, 78), (7, 'popi', 32, 78)]"
      ]
     },
     "execution_count": 70,
     "metadata": {},
     "output_type": "execute_result"
    }
   ],
   "source": [
    "results=cur.execute(\"select * from student where courseid=(select courseid from course where coursename='data science')\")\n",
    "results.fetchall()"
   ]
  },
  {
   "cell_type": "code",
   "execution_count": 71,
   "id": "be7f8f20",
   "metadata": {},
   "outputs": [],
   "source": [
    "# fetch out all student courseid where coursename is 'python'"
   ]
  },
  {
   "cell_type": "code",
   "execution_count": 72,
   "id": "5fcf1d09",
   "metadata": {},
   "outputs": [
    {
     "data": {
      "text/plain": [
       "[(2, 'riya', 26, 56), (6, 'john', 30, 56)]"
      ]
     },
     "execution_count": 72,
     "metadata": {},
     "output_type": "execute_result"
    }
   ],
   "source": [
    "results=cur.execute(\"select * from student where courseid=(select courseid from course where coursename='python')\")\n",
    "results.fetchall()"
   ]
  },
  {
   "cell_type": "code",
   "execution_count": 73,
   "id": "508fd0dc",
   "metadata": {},
   "outputs": [],
   "source": [
    "# fetch out studentname who taken addmission for python."
   ]
  },
  {
   "cell_type": "code",
   "execution_count": 76,
   "id": "8ccc3059",
   "metadata": {},
   "outputs": [
    {
     "data": {
      "text/plain": [
       "[('riya',), ('john',)]"
      ]
     },
     "execution_count": 76,
     "metadata": {},
     "output_type": "execute_result"
    }
   ],
   "source": [
    "results=cur.execute(\"select studentname from student where courseid =(select courseid from course where coursename='python')\")\n",
    "results.fetchall()"
   ]
  },
  {
   "cell_type": "code",
   "execution_count": null,
   "id": "e82394cf",
   "metadata": {},
   "outputs": [],
   "source": [
    "# fetch out student age who taken addmission for python"
   ]
  },
  {
   "cell_type": "code",
   "execution_count": 77,
   "id": "58ae5cde",
   "metadata": {},
   "outputs": [
    {
     "data": {
      "text/plain": [
       "[(26,), (30,)]"
      ]
     },
     "execution_count": 77,
     "metadata": {},
     "output_type": "execute_result"
    }
   ],
   "source": [
    "results=cur.execute(\"select age from student where courseid=(select courseid from course where coursename ='python')\")\n",
    "results.fetchall()"
   ]
  },
  {
   "cell_type": "code",
   "execution_count": 78,
   "id": "c47ae1f0",
   "metadata": {},
   "outputs": [],
   "source": [
    "# fetch out student rollno who taken admission for python & data science"
   ]
  },
  {
   "cell_type": "code",
   "execution_count": 79,
   "id": "a0573a8f",
   "metadata": {},
   "outputs": [
    {
     "data": {
      "text/plain": [
       "[(2,), (6,)]"
      ]
     },
     "execution_count": 79,
     "metadata": {},
     "output_type": "execute_result"
    }
   ],
   "source": [
    "results=cur.execute(\"select rollno from student where courseid=(select courseid from course where coursename='python' )\")\n",
    "results.fetchall()"
   ]
  },
  {
   "cell_type": "code",
   "execution_count": 80,
   "id": "a63cdd6a",
   "metadata": {},
   "outputs": [
    {
     "data": {
      "text/plain": [
       "[(1,), (7,)]"
      ]
     },
     "execution_count": 80,
     "metadata": {},
     "output_type": "execute_result"
    }
   ],
   "source": [
    "results=cur.execute(\"select rollno from student where courseid=(select courseid from course where coursename='data science')\")\n",
    "results.fetchall()"
   ]
  },
  {
   "cell_type": "markdown",
   "id": "3b60af4a",
   "metadata": {},
   "source": [
    "SQL JOIN"
   ]
  },
  {
   "cell_type": "code",
   "execution_count": 84,
   "id": "a989765c",
   "metadata": {},
   "outputs": [],
   "source": [
    "# Inner Join"
   ]
  },
  {
   "cell_type": "code",
   "execution_count": 88,
   "id": "747f17a6",
   "metadata": {},
   "outputs": [
    {
     "name": "stdout",
     "output_type": "stream",
     "text": [
      "(1, 'riku', 23, 78, 'data science')\n",
      "(2, 'riya', 26, 56, 'python')\n",
      "(3, 'tithi', 24, 29, 'mysql')\n",
      "(4, 'titu', 20, 22, 'r language')\n",
      "(5, 'jack', 28, 27, 'machine learning')\n",
      "(6, 'john', 30, 56, 'python')\n",
      "(7, 'popi', 32, 78, 'data science')\n"
     ]
    }
   ],
   "source": [
    "sql=\"SELECT student.rollno,student.studentname,student.age,course.courseid,course.coursename FROM student INNER JOIN course ON student.courseid=course.courseid\"\n",
    "results=cur.execute(sql)\n",
    "for row in results:\n",
    "    print(row)"
   ]
  },
  {
   "cell_type": "code",
   "execution_count": 89,
   "id": "904e7072",
   "metadata": {},
   "outputs": [],
   "source": [
    "# Left join"
   ]
  },
  {
   "cell_type": "code",
   "execution_count": 90,
   "id": "56e78382",
   "metadata": {},
   "outputs": [
    {
     "name": "stdout",
     "output_type": "stream",
     "text": [
      "(1, 'riku', 23, 78, 'data science', 23)\n",
      "(2, 'riya', 26, 56, 'python', 26)\n",
      "(3, 'tithi', 24, 29, 'mysql', 24)\n",
      "(4, 'titu', 20, 22, 'r language', 20)\n",
      "(5, 'jack', 28, 27, 'machine learning', 28)\n",
      "(6, 'john', 30, 56, 'python', 30)\n",
      "(7, 'popi', 32, 78, 'data science', 32)\n"
     ]
    }
   ],
   "source": [
    "sql=\"SELECT student.rollno,student.studentname,student.age,course.courseid,course.coursename,student.age FROM student LEFT JOIN course ON student.courseid=course.courseid\"\n",
    "results=cur.execute(sql)\n",
    "for row in results:\n",
    "    print(row)"
   ]
  }
 ],
 "metadata": {
  "kernelspec": {
   "display_name": "Python 3 (ipykernel)",
   "language": "python",
   "name": "python3"
  },
  "language_info": {
   "codemirror_mode": {
    "name": "ipython",
    "version": 3
   },
   "file_extension": ".py",
   "mimetype": "text/x-python",
   "name": "python",
   "nbconvert_exporter": "python",
   "pygments_lexer": "ipython3",
   "version": "3.9.12"
  }
 },
 "nbformat": 4,
 "nbformat_minor": 5
}
